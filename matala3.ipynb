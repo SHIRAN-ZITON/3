{
 "cells": [
  {
   "cell_type": "markdown",
   "id": "9d1657e0",
   "metadata": {},
   "source": [
    "# matala 3 "
   ]
  },
  {
   "cell_type": "code",
   "execution_count": 1,
   "id": "9f353e0e",
   "metadata": {},
   "outputs": [],
   "source": [
    "import pandas as pd\n",
    "import urllib.request\n",
    "import json"
   ]
  },
  {
   "cell_type": "markdown",
   "id": "5c36ada9",
   "metadata": {},
   "source": [
    "## # 1"
   ]
  },
  {
   "cell_type": "code",
   "execution_count": 2,
   "id": "3c4f6699",
   "metadata": {},
   "outputs": [],
   "source": [
    "# Replace with your own API key\n",
    "api_key = 'Replace with your own API key'\n",
    "\n",
    "# Read destinations from file\n",
    "with open('dests.txt', 'r') as f:\n",
    "    destinations = f.read().splitlines()\n",
    "\n",
    "# Initialize empty lists to store data\n",
    "targets = []\n",
    "distances = []\n",
    "durations = []\n",
    "longitudes = []\n",
    "latitudes = []\n",
    "\n",
    "# Loop over destinations\n",
    "for destination in destinations:\n",
    "    try:\n",
    "        # Encode destination for use in URL\n",
    "        destination_encoded = urllib.parse.quote(destination)\n",
    "\n",
    "        # Distance Matrix API request\n",
    "        distance_matrix_url = f'https://maps.googleapis.com/maps/api/distancematrix/json?origins=Tel+Aviv&destinations={destination_encoded}&key={api_key}'\n",
    "        with urllib.request.urlopen(distance_matrix_url) as response:\n",
    "            data = json.load(response)\n",
    "            row = data['rows'][0]['elements'][0]\n",
    "            distance_km = row['distance']['value'] / 1000\n",
    "            duration_min = row['duration']['value'] / 60\n",
    "\n",
    "        # Geocoding API request\n",
    "        geocode_url = f'https://maps.googleapis.com/maps/api/geocode/json?address={destination_encoded}&key={api_key}'\n",
    "        with urllib.request.urlopen(geocode_url) as response:\n",
    "            data = json.load(response)\n",
    "            location = data['results'][0]['geometry']['location']\n",
    "            longitude = location['lng']\n",
    "            latitude = location['lat']\n",
    "\n",
    "        # Append data to lists\n",
    "        targets.append(destination)\n",
    "        distances.append(distance_km)\n",
    "        durations.append(duration_min)\n",
    "        longitudes.append(longitude)\n",
    "        latitudes.append(latitude)\n",
    "\n",
    "    except Exception as e:\n",
    "        print(f'Error occurred for {destination}')\n",
    "        print(f'Error message: {str(e)}')\n",
    "\n",
    "# Create DataFrame from the lists\n",
    "df = pd.DataFrame({\n",
    "    'Target': targets,\n",
    "    'Distance km': distances,\n",
    "    'Duration (hour+minutes)': durations,\n",
    "    'Longitude': longitudes,\n",
    "    'Latitude': latitudes\n",
    "})\n",
    "\n",
    "# Convert Duration (hour+minutes) to hh:mm format\n",
    "df['Duration (hour+minutes)'] = df['Duration (hour+minutes)'].apply(lambda x: f'{int(x // 60):02d}:{int(x % 60):02d}')\n"
   ]
  },
  {
   "cell_type": "markdown",
   "id": "f8ced5f5",
   "metadata": {},
   "source": [
    "## # 2"
   ]
  },
  {
   "cell_type": "code",
   "execution_count": 3,
   "id": "93191cdd",
   "metadata": {},
   "outputs": [
    {
     "data": {
      "text/html": [
       "<div>\n",
       "<style scoped>\n",
       "    .dataframe tbody tr th:only-of-type {\n",
       "        vertical-align: middle;\n",
       "    }\n",
       "\n",
       "    .dataframe tbody tr th {\n",
       "        vertical-align: top;\n",
       "    }\n",
       "\n",
       "    .dataframe thead th {\n",
       "        text-align: right;\n",
       "    }\n",
       "</style>\n",
       "<table border=\"1\" class=\"dataframe\">\n",
       "  <thead>\n",
       "    <tr style=\"text-align: right;\">\n",
       "      <th></th>\n",
       "      <th>Target</th>\n",
       "      <th>Distance km</th>\n",
       "      <th>Duration (hour+minutes)</th>\n",
       "      <th>Longitude</th>\n",
       "      <th>Latitude</th>\n",
       "    </tr>\n",
       "  </thead>\n",
       "  <tbody>\n",
       "    <tr>\n",
       "      <th>0</th>\n",
       "      <td>Istanbul</td>\n",
       "      <td>1815.227</td>\n",
       "      <td>21:02</td>\n",
       "      <td>28.978359</td>\n",
       "      <td>41.008238</td>\n",
       "    </tr>\n",
       "    <tr>\n",
       "      <th>1</th>\n",
       "      <td>Amsterdam</td>\n",
       "      <td>4532.541</td>\n",
       "      <td>48:03</td>\n",
       "      <td>4.904139</td>\n",
       "      <td>52.367573</td>\n",
       "    </tr>\n",
       "    <tr>\n",
       "      <th>2</th>\n",
       "      <td>Valletta</td>\n",
       "      <td>3792.881</td>\n",
       "      <td>50:52</td>\n",
       "      <td>14.514100</td>\n",
       "      <td>35.899237</td>\n",
       "    </tr>\n",
       "    <tr>\n",
       "      <th>3</th>\n",
       "      <td>Basel</td>\n",
       "      <td>4092.805</td>\n",
       "      <td>44:02</td>\n",
       "      <td>7.588576</td>\n",
       "      <td>47.559599</td>\n",
       "    </tr>\n",
       "    <tr>\n",
       "      <th>4</th>\n",
       "      <td>Doha</td>\n",
       "      <td>2164.477</td>\n",
       "      <td>22:38</td>\n",
       "      <td>51.531040</td>\n",
       "      <td>25.285447</td>\n",
       "    </tr>\n",
       "  </tbody>\n",
       "</table>\n",
       "</div>"
      ],
      "text/plain": [
       "      Target  Distance km Duration (hour+minutes)  Longitude   Latitude\n",
       "0   Istanbul     1815.227                   21:02  28.978359  41.008238\n",
       "1  Amsterdam     4532.541                   48:03   4.904139  52.367573\n",
       "2   Valletta     3792.881                   50:52  14.514100  35.899237\n",
       "3      Basel     4092.805                   44:02   7.588576  47.559599\n",
       "4       Doha     2164.477                   22:38  51.531040  25.285447"
      ]
     },
     "execution_count": 3,
     "metadata": {},
     "output_type": "execute_result"
    }
   ],
   "source": [
    "#DataFrame\n",
    "df"
   ]
  },
  {
   "cell_type": "markdown",
   "id": "2b0b9231",
   "metadata": {},
   "source": [
    "## #3"
   ]
  },
  {
   "cell_type": "code",
   "execution_count": 4,
   "id": "88eda208",
   "metadata": {},
   "outputs": [
    {
     "data": {
      "text/html": [
       "<div>\n",
       "<style scoped>\n",
       "    .dataframe tbody tr th:only-of-type {\n",
       "        vertical-align: middle;\n",
       "    }\n",
       "\n",
       "    .dataframe tbody tr th {\n",
       "        vertical-align: top;\n",
       "    }\n",
       "\n",
       "    .dataframe thead th {\n",
       "        text-align: right;\n",
       "    }\n",
       "</style>\n",
       "<table border=\"1\" class=\"dataframe\">\n",
       "  <thead>\n",
       "    <tr style=\"text-align: right;\">\n",
       "      <th></th>\n",
       "      <th>Target</th>\n",
       "      <th>Distance km</th>\n",
       "    </tr>\n",
       "  </thead>\n",
       "  <tbody>\n",
       "    <tr>\n",
       "      <th>1</th>\n",
       "      <td>Amsterdam</td>\n",
       "      <td>4532.541</td>\n",
       "    </tr>\n",
       "    <tr>\n",
       "      <th>3</th>\n",
       "      <td>Basel</td>\n",
       "      <td>4092.805</td>\n",
       "    </tr>\n",
       "    <tr>\n",
       "      <th>2</th>\n",
       "      <td>Valletta</td>\n",
       "      <td>3792.881</td>\n",
       "    </tr>\n",
       "  </tbody>\n",
       "</table>\n",
       "</div>"
      ],
      "text/plain": [
       "      Target  Distance km\n",
       "1  Amsterdam     4532.541\n",
       "3      Basel     4092.805\n",
       "2   Valletta     3792.881"
      ]
     },
     "execution_count": 4,
     "metadata": {},
     "output_type": "execute_result"
    }
   ],
   "source": [
    "df1=df.nlargest(3, 'Distance km')\n",
    "df1[['Target', 'Distance km']]"
   ]
  },
  {
   "cell_type": "code",
   "execution_count": null,
   "id": "d3a4744f",
   "metadata": {},
   "outputs": [],
   "source": []
  }
 ],
 "metadata": {
  "kernelspec": {
   "display_name": "Python 3 (ipykernel)",
   "language": "python",
   "name": "python3"
  },
  "language_info": {
   "codemirror_mode": {
    "name": "ipython",
    "version": 3
   },
   "file_extension": ".py",
   "mimetype": "text/x-python",
   "name": "python",
   "nbconvert_exporter": "python",
   "pygments_lexer": "ipython3",
   "version": "3.10.9"
  }
 },
 "nbformat": 4,
 "nbformat_minor": 5
}
